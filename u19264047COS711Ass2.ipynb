{
 "cells": [
  {
   "cell_type": "code",
   "execution_count": 1,
   "metadata": {},
   "outputs": [],
   "source": [
    "import pandas as pd\n",
    "from sklearn.preprocessing import MinMaxScaler, OneHotEncoder\n",
    "import torch\n",
    "import torch.nn as nn\n",
    "import torch.optim as optim\n",
    "from sklearn.model_selection import train_test_split\n",
    "from torch.utils.data import DataLoader, TensorDataset\n"
   ]
  },
  {
   "cell_type": "code",
   "execution_count": null,
   "metadata": {},
   "outputs": [],
   "source": [
    "file_path = 'almonds/Almond.csv'\n",
    "almond_data = pd.read_csv(file_path)\n",
    "\n",
    "almond_data.info(), print(almond_data.head())\n",
    "\n",
    "almond_data_cleaned = almond_data.drop(columns=['Unnamed: 0'])\n",
    "\n",
    "features = almond_data_cleaned.drop(columns=['Type'])\n",
    "target = almond_data_cleaned['Type']\n",
    "\n",
    "scaler = MinMaxScaler()\n",
    "features_normalized = pd.DataFrame(scaler.fit_transform(features), columns=features.columns)\n",
    "\n",
    "features_normalized_filled = features_normalized.fillna(-1)\n",
    "\n",
    "encoder = OneHotEncoder(sparse=False)\n",
    "target_encoded_filled = pd.DataFrame(encoder.fit_transform(target.values.reshape(-1, 1)), columns=encoder.categories_[0])\n",
    "\n",
    "preprocessed_data_filled = pd.concat([features_normalized_filled, target_encoded_filled], axis=1)\n",
    "\n",
    "for index, row in preprocessed_data_filled.iterrows():\n",
    "        for col in preprocessed_data_filled.columns:\n",
    "            value = row[col]\n",
    "            if not (0 <= value <= 1 or value == -1):\n",
    "                print(f\"Invalid value found: {value} at row {index}, column '{col}'\")"
   ]
  },
  {
   "cell_type": "code",
   "execution_count": 4,
   "metadata": {},
   "outputs": [],
   "source": [
    "\n",
    "output_file_path = 'almonds/Almond_Prepped.csv'\n",
    "preprocessed_data_filled.to_csv(output_file_path, index=False)"
   ]
  },
  {
   "cell_type": "code",
   "execution_count": null,
   "metadata": {},
   "outputs": [],
   "source": [
    "Prepped_file_path = 'almonds/Almond_Prepped.csv'\n",
    "preprocessed_data_filled = pd.read_csv(Prepped_file_path)\n",
    "print(preprocessed_data_filled.sample(10))\n"
   ]
  },
  {
   "cell_type": "code",
   "execution_count": null,
   "metadata": {},
   "outputs": [],
   "source": [
    "X = preprocessed_data_filled.drop(columns=['MAMRA', 'REGULAR', 'SANORA']).values\n",
    "y = preprocessed_data_filled[['MAMRA', 'REGULAR', 'SANORA']].values\n",
    "\n",
    "X_train, X_test, y_train, y_test = train_test_split(X, y, test_size=0.2, random_state=42)\n",
    "\n",
    "X_train_tensor = torch.tensor(X_train, dtype=torch.float32)\n",
    "y_train_tensor = torch.tensor(y_train, dtype=torch.float32)\n",
    "X_test_tensor = torch.tensor(X_test, dtype=torch.float32)\n",
    "y_test_tensor = torch.tensor(y_test, dtype=torch.float32)\n",
    "\n",
    "train_dataset = TensorDataset(X_train_tensor, y_train_tensor)\n",
    "test_dataset = TensorDataset(X_test_tensor, y_test_tensor)\n",
    "\n",
    "train_loader = DataLoader(train_dataset, batch_size=32, shuffle=True)\n",
    "test_loader = DataLoader(test_dataset, batch_size=32, shuffle=False)"
   ]
  },
  {
   "cell_type": "code",
   "execution_count": 6,
   "metadata": {},
   "outputs": [],
   "source": [
    "class NN(nn.Module):\n",
    "    def __init__(self, input_size, hidden_layers, output_size, actFunc):\n",
    "        super(NN, self).__init__()\n",
    "        self.inputLayer = nn.Linear(input_size, hidden_layers[0])\n",
    "        self.hiddenLayers = []\n",
    "        for i in range(len(hidden_layers)-1):\n",
    "            self.hiddenLayers.append(nn.Linear(hidden_layers[i], hidden_layers[i+1]))\n",
    "        self.outputLayer = nn.Linear(hidden_layers[-1], output_size)\n",
    "        self.actFunc = nn.ReLU()\n",
    "        if (actFunc == 'Sigmoid'):\n",
    "            self.actFunc = nn.Sigmoid()\n",
    "        self.softmax = nn.Softmax(dim=1)\n",
    "\n",
    "    def forward(self, x):\n",
    "        x = self.actFunc(self.inputLayer(x))\n",
    "        for layer in self.hiddenLayers:\n",
    "            x = self.actFunc(layer(x))\n",
    "        x = self.outputLayer(x)\n",
    "        x = self.softmax(x)\n",
    "        return x"
   ]
  }
 ],
 "metadata": {
  "kernelspec": {
   "display_name": "base",
   "language": "python",
   "name": "python3"
  },
  "language_info": {
   "codemirror_mode": {
    "name": "ipython",
    "version": 3
   },
   "file_extension": ".py",
   "mimetype": "text/x-python",
   "name": "python",
   "nbconvert_exporter": "python",
   "pygments_lexer": "ipython3",
   "version": "3.8.8"
  }
 },
 "nbformat": 4,
 "nbformat_minor": 2
}
