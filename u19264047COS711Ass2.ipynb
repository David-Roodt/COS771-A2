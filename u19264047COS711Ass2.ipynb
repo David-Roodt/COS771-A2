{
 "cells": [
  {
   "cell_type": "code",
   "execution_count": 1,
   "metadata": {},
   "outputs": [],
   "source": [
    "import pandas as pd\n",
    "from sklearn.preprocessing import MinMaxScaler, OneHotEncoder\n"
   ]
  },
  {
   "cell_type": "code",
   "execution_count": 3,
   "metadata": {},
   "outputs": [
    {
     "name": "stdout",
     "output_type": "stream",
     "text": [
      "<class 'pandas.core.frame.DataFrame'>\n",
      "RangeIndex: 2803 entries, 0 to 2802\n",
      "Data columns (total 14 columns):\n",
      " #   Column                    Non-Null Count  Dtype  \n",
      "---  ------                    --------------  -----  \n",
      " 0   Unnamed: 0                2803 non-null   int64  \n",
      " 1   Length (major axis)       1946 non-null   float64\n",
      " 2   Width (minor axis)        1861 non-null   float64\n",
      " 3   Thickness (depth)         1799 non-null   float64\n",
      " 4   Area                      2803 non-null   float64\n",
      " 5   Perimeter                 2803 non-null   float64\n",
      " 6   Roundness                 1946 non-null   float64\n",
      " 7   Solidity                  2803 non-null   float64\n",
      " 8   Compactness               2803 non-null   float64\n",
      " 9   Aspect Ratio              1004 non-null   float64\n",
      " 10  Eccentricity              1004 non-null   float64\n",
      " 11  Extent                    2803 non-null   float64\n",
      " 12  Convex hull(convex area)  2803 non-null   float64\n",
      " 13  Type                      2803 non-null   object \n",
      "dtypes: float64(12), int64(1), object(1)\n",
      "memory usage: 306.7+ KB\n",
      "   Unnamed: 0  Length (major axis)  Width (minor axis)  Thickness (depth)  \\\n",
      "0           0                  NaN          227.940628         127.759132   \n",
      "1           1                  NaN          234.188126         128.199509   \n",
      "2           2                  NaN          229.418610         125.796547   \n",
      "3           3                  NaN          232.763153         125.918808   \n",
      "4           4                  NaN          230.150742         107.253448   \n",
      "\n",
      "      Area   Perimeter  Roundness  Solidity  Compactness  Aspect Ratio  \\\n",
      "0  22619.0  643.813269        NaN  0.973384     1.458265           NaN   \n",
      "1  23038.0  680.984841        NaN  0.957304     1.601844           NaN   \n",
      "2  22386.5  646.943212        NaN  0.967270     1.487772           NaN   \n",
      "3  22578.5  661.227483        NaN  0.965512     1.540979           NaN   \n",
      "4  19068.0  624.842706        NaN  0.951450     1.629395           NaN   \n",
      "\n",
      "   Eccentricity    Extent  Convex hull(convex area)   Type  \n",
      "0           NaN  0.681193                   23237.5  MAMRA  \n",
      "1           NaN  0.656353                   24065.5  MAMRA  \n",
      "2           NaN  0.683620                   23144.0  MAMRA  \n",
      "3           NaN  0.685360                   23385.0  MAMRA  \n",
      "4           NaN  0.714800                   20041.0  MAMRA  \n",
      "Invalid value found: 1.0000000000000004 at row 1234, column 'Eccentricity'\n"
     ]
    }
   ],
   "source": [
    "file_path = 'almonds/Almond.csv'\n",
    "almond_data = pd.read_csv(file_path)\n",
    "\n",
    "almond_data.info(), print(almond_data.head())\n",
    "\n",
    "almond_data_cleaned = almond_data.drop(columns=['Unnamed: 0'])\n",
    "\n",
    "features = almond_data_cleaned.drop(columns=['Type'])\n",
    "target = almond_data_cleaned['Type']\n",
    "\n",
    "scaler = MinMaxScaler()\n",
    "features_normalized = pd.DataFrame(scaler.fit_transform(features), columns=features.columns)\n",
    "\n",
    "features_normalized_filled = features_normalized.fillna(-1)\n",
    "\n",
    "encoder = OneHotEncoder(sparse=False)\n",
    "target_encoded_filled = pd.DataFrame(encoder.fit_transform(target.values.reshape(-1, 1)), columns=encoder.categories_[0])\n",
    "\n",
    "preprocessed_data_filled = pd.concat([features_normalized_filled, target_encoded_filled], axis=1)\n",
    "\n",
    "for index, row in preprocessed_data_filled.iterrows():\n",
    "        for col in preprocessed_data_filled.columns:\n",
    "            value = row[col]\n",
    "            if not (0 <= value <= 1 or value == -1):\n",
    "                print(f\"Invalid value found: {value} at row {index}, column '{col}'\")"
   ]
  },
  {
   "cell_type": "code",
   "execution_count": 4,
   "metadata": {},
   "outputs": [],
   "source": [
    "\n",
    "output_file_path = 'almonds/Almond_Prepped.csv'\n",
    "preprocessed_data_filled.to_csv(output_file_path, index=False)"
   ]
  },
  {
   "cell_type": "code",
   "execution_count": null,
   "metadata": {},
   "outputs": [],
   "source": []
  }
 ],
 "metadata": {
  "kernelspec": {
   "display_name": "base",
   "language": "python",
   "name": "python3"
  },
  "language_info": {
   "codemirror_mode": {
    "name": "ipython",
    "version": 3
   },
   "file_extension": ".py",
   "mimetype": "text/x-python",
   "name": "python",
   "nbconvert_exporter": "python",
   "pygments_lexer": "ipython3",
   "version": "3.8.8"
  }
 },
 "nbformat": 4,
 "nbformat_minor": 2
}
