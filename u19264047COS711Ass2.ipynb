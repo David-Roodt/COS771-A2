{
 "cells": [
  {
   "cell_type": "code",
   "execution_count": 31,
   "metadata": {},
   "outputs": [],
   "source": [
    "import pandas as pd\n",
    "from sklearn.preprocessing import MinMaxScaler, OneHotEncoder\n",
    "import torch\n",
    "import torch.nn as nn\n",
    "import torch.optim as optim\n",
    "from sklearn.model_selection import train_test_split\n",
    "from torch.utils.data import DataLoader, TensorDataset\n"
   ]
  },
  {
   "cell_type": "code",
   "execution_count": null,
   "metadata": {},
   "outputs": [],
   "source": [
    "file_path = 'almonds/Almond.csv'\n",
    "almond_data = pd.read_csv(file_path)\n",
    "\n",
    "almond_data.info(), print(almond_data.head())\n",
    "\n",
    "almond_data_cleaned = almond_data.drop(columns=['Unnamed: 0'])\n",
    "\n",
    "features = almond_data_cleaned.drop(columns=['Type'])\n",
    "target = almond_data_cleaned['Type']\n",
    "\n",
    "scaler = MinMaxScaler()\n",
    "features_normalized = pd.DataFrame(scaler.fit_transform(features), columns=features.columns)\n",
    "\n",
    "features_normalized_filled = features_normalized.fillna(-1)\n",
    "\n",
    "encoder = OneHotEncoder(sparse=False)\n",
    "target_encoded_filled = pd.DataFrame(encoder.fit_transform(target.values.reshape(-1, 1)), columns=encoder.categories_[0])\n",
    "\n",
    "preprocessed_data_filled = pd.concat([features_normalized_filled, target_encoded_filled], axis=1)\n",
    "\n",
    "for index, row in preprocessed_data_filled.iterrows():\n",
    "        for col in preprocessed_data_filled.columns:\n",
    "            value = row[col]\n",
    "            if not (0 <= value <= 1 or value == -1):\n",
    "                print(f\"Invalid value found: {value} at row {index}, column '{col}'\")"
   ]
  },
  {
   "cell_type": "code",
   "execution_count": 33,
   "metadata": {},
   "outputs": [],
   "source": [
    "\n",
    "output_file_path = 'almonds/Almond_Prepped.csv'\n",
    "preprocessed_data_filled.to_csv(output_file_path, index=False)"
   ]
  },
  {
   "cell_type": "code",
   "execution_count": null,
   "metadata": {},
   "outputs": [],
   "source": [
    "Prepped_file_path = 'almonds/Almond_Prepped.csv'\n",
    "preprocessed_data_filled = pd.read_csv(Prepped_file_path)\n",
    "print(preprocessed_data_filled.sample(10))\n"
   ]
  },
  {
   "cell_type": "code",
   "execution_count": 35,
   "metadata": {},
   "outputs": [],
   "source": [
    "X = preprocessed_data_filled.drop(columns=['MAMRA', 'REGULAR', 'SANORA']).values\n",
    "Y = preprocessed_data_filled[['MAMRA', 'REGULAR', 'SANORA']].values\n",
    "\n",
    "X_train, X_test, Y_train, Y_test = train_test_split(X, Y, test_size=0.2, random_state=42)\n",
    "X_train, X_eval, Y_train, Y_eval = train_test_split(X_train, Y_train, test_size=0.375, random_state=42)\n",
    "\n",
    "X_train_tensor = torch.tensor(X_train, dtype=torch.float32)\n",
    "Y_train_tensor = torch.tensor(Y_train, dtype=torch.float32)\n",
    "X_eval_tensor = torch.tensor(X_eval, dtype=torch.float32)\n",
    "Y_eval_tensor = torch.tensor(Y_eval, dtype=torch.float32)\n",
    "X_test_tensor = torch.tensor(X_test, dtype=torch.float32)\n",
    "Y_test_tensor = torch.tensor(Y_test, dtype=torch.float32)\n",
    "\n",
    "train_dataset = TensorDataset(X_train_tensor, Y_train_tensor)\n",
    "eval_dataset = TensorDataset(X_eval_tensor, Y_eval_tensor)\n",
    "test_dataset = TensorDataset(X_test_tensor, Y_test_tensor)\n",
    "\n",
    "train_loader = DataLoader(train_dataset, batch_size=32, shuffle=True)\n",
    "eval_loader = DataLoader(eval_dataset, batch_size=32, shuffle=False)\n",
    "test_loader = DataLoader(test_dataset, batch_size=32, shuffle=False)"
   ]
  },
  {
   "cell_type": "code",
   "execution_count": 36,
   "metadata": {},
   "outputs": [],
   "source": [
    "class NN(nn.Module):\n",
    "    def __init__(self, input_size, hidden_layers, output_size, actFunc = 'ReLU'):\n",
    "        super(NN, self).__init__()\n",
    "        self.inputLayer = nn.Linear(input_size, hidden_layers[0])\n",
    "        self.hiddenLayers = []\n",
    "        for i in range(len(hidden_layers)-1):\n",
    "            self.hiddenLayers.append(nn.Linear(hidden_layers[i], hidden_layers[i+1]))\n",
    "        self.outputLayer = nn.Linear(hidden_layers[-1], output_size)\n",
    "        self.actFunc = nn.ReLU()\n",
    "        if (actFunc == 'Sigmoid'):\n",
    "            self.actFunc = nn.Sigmoid()\n",
    "        if (actFunc == 'TanH'):\n",
    "            self.actFunc = nn.Tanh()\n",
    "        if (actFunc == 'TanH'):\n",
    "            self.actFunc = nn.Tanh()\n",
    "        if (actFunc == 'TanH'):\n",
    "            self.actFunc = nn.Tanh()\n",
    "        self.softmax = nn.Softmax(dim=1)\n",
    "\n",
    "    def forward(self, x):\n",
    "        x = self.actFunc(self.inputLayer(x))\n",
    "        for layer in self.hiddenLayers:\n",
    "            x = self.actFunc(layer(x))\n",
    "        x = self.outputLayer(x)\n",
    "        x = self.softmax(x)\n",
    "        return x"
   ]
  },
  {
   "cell_type": "code",
   "execution_count": 37,
   "metadata": {},
   "outputs": [],
   "source": [
    "\n",
    "def train_model(optimizer, model, loader, num_epochs, verbose = 1):\n",
    "    model.train()\n",
    "    for epoch in range(num_epochs):\n",
    "        running_loss = 0.0\n",
    "        for inputs, labels in loader:\n",
    "            outputs = model(inputs)\n",
    "            criterion = nn.CrossEntropyLoss()\n",
    "            loss = criterion(outputs, torch.max(labels, 1)[1])\n",
    "            optimizer.zero_grad()\n",
    "            loss.backward()\n",
    "            optimizer.step()\n",
    "            running_loss += loss.item()\n",
    "        if(verbose == 1):\n",
    "            print(f'Epoch [{epoch+1}/{num_epochs}], Loss: {running_loss/len(loader):.4f}')\n",
    "\n",
    "def test_model(model, loader):\n",
    "    model.eval()\n",
    "    correct = 0\n",
    "    total = 0\n",
    "    with torch.no_grad():\n",
    "        for inputs, labels in loader:\n",
    "            outputs = model(inputs)\n",
    "            _, predicted = torch.max(outputs.data, 1)\n",
    "            labels_class = torch.max(labels, 1)[1]\n",
    "            total += labels.size(0)\n",
    "            correct += (predicted == labels_class).sum().item()\n",
    "    accuracy = 100 * (correct / total)\n",
    "    print(f'Test Accuracy: {accuracy:.2f}%')"
   ]
  },
  {
   "cell_type": "code",
   "execution_count": null,
   "metadata": {},
   "outputs": [],
   "source": [
    "def simulate(hiddenLayers, activationFunction, train_loader, eval_loader, epochs = 20):\n",
    "    input_size = 12\n",
    "    output_size = 3\n",
    "    \n",
    "    hidden_size = [4]\n",
    "    for _ in range(hiddenLayers - 1):\n",
    "        next_number = hidden_size[0] * 2\n",
    "        hidden_size.insert(0, next_number)\n",
    "    \n",
    "    learning_rate = 0.001\n",
    "    model = NN(input_size, hidden_size, output_size, activationFunction)\n",
    "    optimizer_adam = optim.Adam(model.parameters(), lr=learning_rate)\n",
    "\n",
    "    train_model(optimizer_adam, model, train_loader, epochs, verbose=0)\n",
    "    test_model(model, eval_loader)\n",
    "\n",
    "    return model\n"
   ]
  },
  {
   "cell_type": "code",
   "execution_count": null,
   "metadata": {},
   "outputs": [],
   "source": []
  }
 ],
 "metadata": {
  "kernelspec": {
   "display_name": "base",
   "language": "python",
   "name": "python3"
  },
  "language_info": {
   "codemirror_mode": {
    "name": "ipython",
    "version": 3
   },
   "file_extension": ".py",
   "mimetype": "text/x-python",
   "name": "python",
   "nbconvert_exporter": "python",
   "pygments_lexer": "ipython3",
   "version": "3.8.8"
  }
 },
 "nbformat": 4,
 "nbformat_minor": 2
}
